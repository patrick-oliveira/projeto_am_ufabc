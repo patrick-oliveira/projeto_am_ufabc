{
  "cells": [
    {
      "cell_type": "code",
      "execution_count": 3,
      "metadata": {
        "id": "TE46fyVBVxEt"
      },
      "outputs": [],
      "source": [
        "import numpy as np\n",
        "import pandas as pd\n",
        "from copy import deepcopy           # Necessário para copiar os dados dentro de funções e evitar alterações inplace dos dados\n",
        "                                    # Isso para que as funções recebam um dado e gerem um dado novo, mantendo o original inalterado.\n",
        "import matplotlib.pyplot as plt\n",
        "import seaborn as sns\n",
        "\n",
        "from sklearn.preprocessing import OneHotEncoder\n",
        "from sklearn.model_selection import train_test_split\n",
        "\n",
        "from imblearn.over_sampling import SMOTE, SMOTENC\n",
        "from imblearn.pipeline import Pipeline\n",
        "from imblearn.under_sampling import RandomUnderSampler"
      ]
    },
    {
      "cell_type": "code",
      "execution_count": 4,
      "metadata": {
        "id": "hSTT4Ck-VxEx"
      },
      "outputs": [],
      "source": [
        "DATA_PATH = '../dados/dados_treino.csv'\n",
        "\n",
        "raw_data = pd.read_csv(DATA_PATH)"
      ]
    },
    {
      "cell_type": "code",
      "execution_count": 5,
      "metadata": {
        "colab": {
          "base_uri": "https://localhost:8080/"
        },
        "id": "RtWRn_wtVxEy",
        "outputId": "90dc52db-bef3-4a2d-edad-213b7bc0a951"
      },
      "outputs": [
        {
          "name": "stdout",
          "output_type": "stream",
          "text": [
            "<class 'pandas.core.frame.DataFrame'>\n",
            "RangeIndex: 4975 entries, 0 to 4974\n",
            "Data columns (total 20 columns):\n",
            " #   Column                          Non-Null Count  Dtype  \n",
            "---  ------                          --------------  -----  \n",
            " 0   bateria                         4975 non-null   object \n",
            " 1   Tem_Instr_Violao_Viola          4975 non-null   bool   \n",
            " 2   Tem_Instr_Guitarra              4975 non-null   bool   \n",
            " 3   Tem_Instr_Cavaco                4975 non-null   bool   \n",
            " 4   Tem_Instr_Sintetizador_Teclado  4975 non-null   bool   \n",
            " 5   Tem_Instr_Piano                 4975 non-null   bool   \n",
            " 6   Tem_Instr_Metais                4975 non-null   bool   \n",
            " 7   Tem_Instr_Madeiras              4975 non-null   bool   \n",
            " 8   Tem_Instr_Cordas                4975 non-null   bool   \n",
            " 9   BPM                             4975 non-null   float64\n",
            " 10  VolMedio                        4975 non-null   float64\n",
            " 11  PctCantada                      4975 non-null   float64\n",
            " 12  PctRap                          4975 non-null   float64\n",
            " 13  duracao                         4975 non-null   int64  \n",
            " 14  ano_lancamento                  4975 non-null   int64  \n",
            " 15  modo                            4542 non-null   object \n",
            " 16  gostou                          4975 non-null   bool   \n",
            " 17  data_curtida                    4975 non-null   object \n",
            " 18  n_reproducao                    4975 non-null   int64  \n",
            " 19  id_cliente                      4975 non-null   object \n",
            "dtypes: bool(9), float64(4), int64(3), object(4)\n",
            "memory usage: 471.4+ KB\n"
          ]
        }
      ],
      "source": [
        "raw_data.info()    # Informaçãões gerais do dataset. Permite ver se há valores NULL."
      ]
    },
    {
      "cell_type": "code",
      "execution_count": 6,
      "metadata": {
        "colab": {
          "base_uri": "https://localhost:8080/"
        },
        "id": "Yt01m_ukVxEz",
        "outputId": "dbd18c18-1cfd-44e8-c1e8-95d295a0561c"
      },
      "outputs": [
        {
          "name": "stdout",
          "output_type": "stream",
          "text": [
            "<class 'pandas.core.frame.DataFrame'>\n",
            "Int64Index: 4975 entries, 0 to 4974\n",
            "Data columns (total 20 columns):\n",
            " #   Column                          Non-Null Count  Dtype  \n",
            "---  ------                          --------------  -----  \n",
            " 0   bateria                         4975 non-null   object \n",
            " 1   Tem_Instr_Violao_Viola          4975 non-null   bool   \n",
            " 2   Tem_Instr_Guitarra              4975 non-null   bool   \n",
            " 3   Tem_Instr_Cavaco                4975 non-null   bool   \n",
            " 4   Tem_Instr_Sintetizador_Teclado  4975 non-null   bool   \n",
            " 5   Tem_Instr_Piano                 4975 non-null   bool   \n",
            " 6   Tem_Instr_Metais                4975 non-null   bool   \n",
            " 7   Tem_Instr_Madeiras              4975 non-null   bool   \n",
            " 8   Tem_Instr_Cordas                4975 non-null   bool   \n",
            " 9   BPM                             4975 non-null   float64\n",
            " 10  VolMedio                        4975 non-null   float64\n",
            " 11  PctCantada                      4975 non-null   float64\n",
            " 12  PctRap                          4975 non-null   float64\n",
            " 13  duracao                         4975 non-null   int64  \n",
            " 14  ano_lancamento                  4975 non-null   int64  \n",
            " 15  modo                            4542 non-null   object \n",
            " 16  gostou                          4975 non-null   bool   \n",
            " 17  data_curtida                    4975 non-null   object \n",
            " 18  n_reproducao                    4975 non-null   int64  \n",
            " 19  id_cliente                      4975 non-null   object \n",
            "dtypes: bool(9), float64(4), int64(3), object(4)\n",
            "memory usage: 510.1+ KB\n"
          ]
        }
      ],
      "source": [
        "raw_data.drop_duplicates().info()"
      ]
    },
    {
      "cell_type": "code",
      "execution_count": 7,
      "metadata": {
        "colab": {
          "base_uri": "https://localhost:8080/",
          "height": 226
        },
        "id": "olFfWebiVxEz",
        "outputId": "5192dd81-31e1-49f2-bdf1-8111b05699eb"
      },
      "outputs": [
        {
          "data": {
            "text/html": [
              "<div>\n",
              "<style scoped>\n",
              "    .dataframe tbody tr th:only-of-type {\n",
              "        vertical-align: middle;\n",
              "    }\n",
              "\n",
              "    .dataframe tbody tr th {\n",
              "        vertical-align: top;\n",
              "    }\n",
              "\n",
              "    .dataframe thead th {\n",
              "        text-align: right;\n",
              "    }\n",
              "</style>\n",
              "<table border=\"1\" class=\"dataframe\">\n",
              "  <thead>\n",
              "    <tr style=\"text-align: right;\">\n",
              "      <th></th>\n",
              "      <th>bateria</th>\n",
              "      <th>Tem_Instr_Violao_Viola</th>\n",
              "      <th>Tem_Instr_Guitarra</th>\n",
              "      <th>Tem_Instr_Cavaco</th>\n",
              "      <th>Tem_Instr_Sintetizador_Teclado</th>\n",
              "      <th>Tem_Instr_Piano</th>\n",
              "      <th>Tem_Instr_Metais</th>\n",
              "      <th>Tem_Instr_Madeiras</th>\n",
              "      <th>Tem_Instr_Cordas</th>\n",
              "      <th>BPM</th>\n",
              "      <th>VolMedio</th>\n",
              "      <th>PctCantada</th>\n",
              "      <th>PctRap</th>\n",
              "      <th>duracao</th>\n",
              "      <th>ano_lancamento</th>\n",
              "      <th>modo</th>\n",
              "      <th>gostou</th>\n",
              "      <th>data_curtida</th>\n",
              "      <th>n_reproducao</th>\n",
              "      <th>id_cliente</th>\n",
              "    </tr>\n",
              "  </thead>\n",
              "  <tbody>\n",
              "    <tr>\n",
              "      <th>0</th>\n",
              "      <td>Acústica</td>\n",
              "      <td>False</td>\n",
              "      <td>True</td>\n",
              "      <td>False</td>\n",
              "      <td>False</td>\n",
              "      <td>True</td>\n",
              "      <td>False</td>\n",
              "      <td>False</td>\n",
              "      <td>False</td>\n",
              "      <td>128.652946</td>\n",
              "      <td>-8.743969</td>\n",
              "      <td>38.671394</td>\n",
              "      <td>0.0</td>\n",
              "      <td>680510</td>\n",
              "      <td>1977</td>\n",
              "      <td>NaN</td>\n",
              "      <td>False</td>\n",
              "      <td>2021-07-29</td>\n",
              "      <td>5</td>\n",
              "      <td>#ID4940</td>\n",
              "    </tr>\n",
              "    <tr>\n",
              "      <th>1</th>\n",
              "      <td>Acústica</td>\n",
              "      <td>True</td>\n",
              "      <td>False</td>\n",
              "      <td>True</td>\n",
              "      <td>False</td>\n",
              "      <td>False</td>\n",
              "      <td>False</td>\n",
              "      <td>False</td>\n",
              "      <td>False</td>\n",
              "      <td>107.679121</td>\n",
              "      <td>-12.128194</td>\n",
              "      <td>75.739791</td>\n",
              "      <td>0.0</td>\n",
              "      <td>195746</td>\n",
              "      <td>2014</td>\n",
              "      <td>f</td>\n",
              "      <td>False</td>\n",
              "      <td>2021-07-29</td>\n",
              "      <td>5</td>\n",
              "      <td>#ID4940</td>\n",
              "    </tr>\n",
              "    <tr>\n",
              "      <th>2</th>\n",
              "      <td>Nenhuma</td>\n",
              "      <td>False</td>\n",
              "      <td>True</td>\n",
              "      <td>False</td>\n",
              "      <td>False</td>\n",
              "      <td>True</td>\n",
              "      <td>True</td>\n",
              "      <td>False</td>\n",
              "      <td>False</td>\n",
              "      <td>117.885751</td>\n",
              "      <td>-10.880246</td>\n",
              "      <td>35.978128</td>\n",
              "      <td>0.0</td>\n",
              "      <td>413618</td>\n",
              "      <td>1968</td>\n",
              "      <td>D#</td>\n",
              "      <td>False</td>\n",
              "      <td>2021-07-29</td>\n",
              "      <td>4</td>\n",
              "      <td>#ID4940</td>\n",
              "    </tr>\n",
              "    <tr>\n",
              "      <th>3</th>\n",
              "      <td>Acústica</td>\n",
              "      <td>False</td>\n",
              "      <td>True</td>\n",
              "      <td>False</td>\n",
              "      <td>False</td>\n",
              "      <td>True</td>\n",
              "      <td>True</td>\n",
              "      <td>True</td>\n",
              "      <td>False</td>\n",
              "      <td>119.309408</td>\n",
              "      <td>-12.489925</td>\n",
              "      <td>45.763376</td>\n",
              "      <td>0.0</td>\n",
              "      <td>749101</td>\n",
              "      <td>1963</td>\n",
              "      <td>D#</td>\n",
              "      <td>True</td>\n",
              "      <td>2021-07-29</td>\n",
              "      <td>3</td>\n",
              "      <td>#ID4940</td>\n",
              "    </tr>\n",
              "    <tr>\n",
              "      <th>4</th>\n",
              "      <td>Eletrônica</td>\n",
              "      <td>False</td>\n",
              "      <td>False</td>\n",
              "      <td>False</td>\n",
              "      <td>True</td>\n",
              "      <td>True</td>\n",
              "      <td>False</td>\n",
              "      <td>False</td>\n",
              "      <td>False</td>\n",
              "      <td>153.488568</td>\n",
              "      <td>-6.412484</td>\n",
              "      <td>58.979747</td>\n",
              "      <td>0.0</td>\n",
              "      <td>168978</td>\n",
              "      <td>2020</td>\n",
              "      <td>c</td>\n",
              "      <td>False</td>\n",
              "      <td>2021-07-29</td>\n",
              "      <td>2</td>\n",
              "      <td>#ID4940</td>\n",
              "    </tr>\n",
              "  </tbody>\n",
              "</table>\n",
              "</div>"
            ],
            "text/plain": [
              "      bateria  Tem_Instr_Violao_Viola  Tem_Instr_Guitarra  Tem_Instr_Cavaco  \\\n",
              "0    Acústica                   False                True             False   \n",
              "1    Acústica                    True               False              True   \n",
              "2     Nenhuma                   False                True             False   \n",
              "3    Acústica                   False                True             False   \n",
              "4  Eletrônica                   False               False             False   \n",
              "\n",
              "   Tem_Instr_Sintetizador_Teclado  Tem_Instr_Piano  Tem_Instr_Metais  \\\n",
              "0                           False             True             False   \n",
              "1                           False            False             False   \n",
              "2                           False             True              True   \n",
              "3                           False             True              True   \n",
              "4                            True             True             False   \n",
              "\n",
              "   Tem_Instr_Madeiras  Tem_Instr_Cordas         BPM   VolMedio  PctCantada  \\\n",
              "0               False             False  128.652946  -8.743969   38.671394   \n",
              "1               False             False  107.679121 -12.128194   75.739791   \n",
              "2               False             False  117.885751 -10.880246   35.978128   \n",
              "3                True             False  119.309408 -12.489925   45.763376   \n",
              "4               False             False  153.488568  -6.412484   58.979747   \n",
              "\n",
              "   PctRap  duracao  ano_lancamento modo  gostou data_curtida  n_reproducao  \\\n",
              "0     0.0   680510            1977  NaN   False   2021-07-29             5   \n",
              "1     0.0   195746            2014    f   False   2021-07-29             5   \n",
              "2     0.0   413618            1968   D#   False   2021-07-29             4   \n",
              "3     0.0   749101            1963   D#    True   2021-07-29             3   \n",
              "4     0.0   168978            2020    c   False   2021-07-29             2   \n",
              "\n",
              "  id_cliente  \n",
              "0    #ID4940  \n",
              "1    #ID4940  \n",
              "2    #ID4940  \n",
              "3    #ID4940  \n",
              "4    #ID4940  "
            ]
          },
          "execution_count": 7,
          "metadata": {},
          "output_type": "execute_result"
        }
      ],
      "source": [
        "raw_data.head()"
      ]
    },
    {
      "cell_type": "code",
      "execution_count": 8,
      "metadata": {
        "colab": {
          "base_uri": "https://localhost:8080/"
        },
        "id": "773xG-OfVxE0",
        "outputId": "c5e75978-92fd-4284-8f1d-037e8db57116"
      },
      "outputs": [],
      "source": [
        "# Dataset de referencia:\n",
        "import sklearn.datasets\n",
        "from sklearn import preprocessing\n",
        "X,y = sklearn.datasets.load_boston(return_X_y=True)"
      ]
    },
    {
      "cell_type": "code",
      "execution_count": 9,
      "metadata": {
        "colab": {
          "base_uri": "https://localhost:8080/"
        },
        "id": "DkxSw3kFVxE0",
        "outputId": "e14501e2-abd3-40de-9137-c7ebb462f61a"
      },
      "outputs": [
        {
          "name": "stdout",
          "output_type": "stream",
          "text": [
            "<class 'numpy.ndarray'>\n"
          ]
        }
      ],
      "source": [
        "print(type(X))"
      ]
    },
    {
      "cell_type": "markdown",
      "metadata": {
        "id": "ZI0oGowtVxE1"
      },
      "source": [
        "## OBS: Essa classe está em construção e deve ser adequada antes de seu uso! No momento está feita praticamente como um aglomerado de funções"
      ]
    },
    {
      "cell_type": "code",
      "execution_count": 10,
      "metadata": {
        "id": "SwTxtInIVxE2"
      },
      "outputs": [],
      "source": [
        "class Preprocessor():\n",
        "    '''\n",
        "        Saída final esperada: um dicionário com as saídas \n",
        "    '''\n",
        "        # colocar as variáveis de interesse da classe:\n",
        "        # especialmente o dataframe base, e dados de trabalho\n",
        "    def __init__(self):\n",
        "        # colocar as variáveis de interesse da classe:\n",
        "        # especialmente o dataframe de entrada\n",
        "        pass\n",
        "\n",
        "    def _bool_to_int(self, dataframe: pd.DataFrame) -> pd.DataFrame:\n",
        "        '''\n",
        "        \n",
        "        Converte as colunas do tipo bool para o tipo int (0 e 1).\n",
        "        \n",
        "        '''\n",
        "        columns = ['Tem_Instr_Violao_Viola', 'Tem_Instr_Guitarra', 'Tem_Instr_Cavaco', \n",
        "                'Tem_Instr_Sintetizador_Teclado', 'Tem_Instr_Piano', 'Tem_Instr_Metais', \n",
        "                'Tem_Instr_Madeiras', 'Tem_Instr_Cordas', 'gostou']                      # Adicionar as colunas da bateria aqui depois\n",
        "        new_df = deepcopy(dataframe)\n",
        "        \n",
        "        for col in columns:\n",
        "            new_df[col] = new_df[col].astype(int)\n",
        "            \n",
        "        return new_df\n",
        "    \n",
        "    def _bateria_to_bool(self, dataframe: pd.DataFrame) -> pd.DataFrame:\n",
        "        '''\n",
        "        \n",
        "        Transforma a coluna bateria para ser representada por binários\n",
        "        Essa função pode ser modificada para processar a coluna bateria de formas distintas.\n",
        "        \n",
        "        '''\n",
        "        new_df = deepcopy(dataframe)\n",
        "        new_df['bateria_eletronica'] = (new_df['bateria'] == 'Eletrônica').astype(int)\n",
        "        new_df['bateria_acustica']   = (new_df['bateria'] == 'Acústica').astype(int)\n",
        "        new_df['bateria_nenhuma']     = (new_df['bateria'] == 'Nenhuma').astype(int)\n",
        "        new_df = new_df.drop(columns = ['bateria'])\n",
        "        return new_df\n",
        "\n",
        "    def _get_user_data(self, USER: str, raw_data: pd.DataFrame) -> pd.DataFrame:\n",
        "        user_data = raw_data[raw_data['id_cliente'] == USER]\n",
        "        user_data = bool_to_int(user_data)\n",
        "        user_data = bateria_to_bool(user_data)\n",
        "        user_data['modo'] = user_data['modo'].fillna(\"K\")\n",
        "        \n",
        "        return user_data\n",
        "    \n",
        "    def scale_to_bool(self,scale):\n",
        "        string = {\n",
        "            'K'  : 1,\n",
        "            'c'  : 0,\n",
        "            'c#' : 0, \n",
        "            'C'  : 1,\n",
        "            'C#' : 1,\n",
        "            'd'  : 0,\n",
        "            'd#' : 0,\n",
        "            'D'  : 1,\n",
        "            'D#' : 1,\n",
        "            'e'  : 0,\n",
        "            'E'  : 1,\n",
        "            'f'  : 0,\n",
        "            'f#' : 0,\n",
        "            'F'  : 1,\n",
        "            'F#' : 1,\n",
        "            'g'  : 0,\n",
        "            'g#' : 0,\n",
        "            'G'  : 1,\n",
        "            'G#' : 1,\n",
        "            'a'  : 0,\n",
        "            'a#' : 0,\n",
        "            'A'  : 1,\n",
        "            'A#' : 1,\n",
        "            'b'  : 0,\n",
        "            'B'  : 1\n",
        "        }[scale]\n",
        "        return string\n",
        "\n",
        "\n",
        "    def scale_to_one_hot(self, raw_data: pd.DataFrame):\n",
        "    # One hot encoding the mode feature data\n",
        "        new_df = deepcopy(raw_data)\n",
        "        mode_df = pd.get_dummies(new_df[\"modo\"])\n",
        "        new_df = new_df.drop(columns = ['modo'])\n",
        "        # new_df.merge(mode_df,how='left', on='duracao')\n",
        "        #  Place the DataFrames side by side\n",
        "        new_df = pd.concat([new_df,mode_df], axis=1)\n",
        "        return new_df\n",
        "\n",
        "def preprocess(self):    \n",
        "    '''\n",
        "        Aplica todas as estratégias de preprocessamento para adequar à estrutura entendida pelo sklearn\n",
        "    '''\n",
        "    \n",
        "    raw_data = pd.read_csv(DATA_PATH)\n",
        "    raw_data['PctCantada'] = raw_data['PctCantada'] / 100\n",
        "    raw_data['PctRap'] = raw_data['PctRap'] / 100\n",
        "    raw_data['duracao'] = raw_data['duracao'] / (60*1000)\n",
        "    raw_data['VolMedio'] = raw_data['VolMedio'].abs()\n",
        "    raw_data['duracao']  = raw_data['duracao'].abs()\n",
        "    raw_data['modo'] = raw_data['modo'].fillna('K')\n",
        "    raw_data['escala_maior'] = raw_data['modo'].apply((lambda mode: scale_to_bool(mode)))\n",
        "    # raw_data['modo'] = raw_data['modo'].apply((lambda mode: scale_to_bool(mode)))\n",
        "    raw_data = bool_to_int(raw_data)\n",
        "    raw_data = bateria_to_bool(raw_data)\n",
        "\n",
        "    raw_data = scale_to_one_hot(raw_data) # Não gostei muito da solução, mas até faz sentido\n",
        "    print(raw_data)\n",
        "\n",
        "    def filter_user(self, user):\n",
        "        user_data = raw_data[raw_data['id_cliente'] == USER]\n",
        "        # definir melhor a interface\n",
        "\n",
        "    def train_test_split(self): #adicionar parametros de entrada\n",
        "        input_data = user_data.drop(columns = [\"data_curtida\", \"id_cliente\"])[user_data['id_cliente'] == USER]\n",
        "        # X = (.to_numpy()\n",
        "        X = input_data.drop(columns = [\"gostou\"]).to_numpy()\n",
        "        Y = input_data[\"gostou\"].to_numpy()\n",
        "        Y = Y.ravel()\n",
        "        print(Y.shape)\n",
        "        print(X.shape)\n",
        "        X_train, X_test, y_train, y_test = train_test_split(X, Y, test_size=0.2,random_state=109) # 70% training and 30% testv\n",
        "        return X_train, X_test, y_train, y_test \n",
        "    \n",
        "    def SMOTE_oversampling(self):\n",
        "    # colocar uns parametros uteis de entrada\n",
        "        # Teste do SMOTE\n",
        "        # sm = SMOTE(random_state=42)\n",
        "        # X_train_res, Y_train_res = sm.fit_resample(X_train, y_train)\n",
        "\n",
        "        a = np.arange(0,8)\n",
        "        b = np.array([11])\n",
        "        c = np.arange(15,44)\n",
        "        categorical_index = np.concatenate([a,c])\n",
        "        categorical_index = np.concatenate([categorical_index,b])\n",
        "        categorical_index = list(categorical_index)\n",
        "\n",
        "        # Teste SMOTE-NC\n",
        "        smote_nc_over = SMOTENC(categorical_features=categorical_index, random_state=0)\n",
        "\n",
        "        under = RandomUnderSampler(sampling_strategy='majority',random_state=0)\n",
        "\n",
        "        steps = [('o', smote_nc_over), ('u', under)]\n",
        "        pipeline = Pipeline(steps=steps)\n",
        "\n",
        "        X_train_res, Y_train_res = pipeline.fit_resample(X_train, y_train)\n",
        "\n",
        "        # X_train_res, Y_train_res = smote_nc_over.fit_resample(X_train, y_train)\n",
        "\n",
        "    def check_balancing(self):\n",
        "        ## Count elements\n",
        "        count_plus = 0\n",
        "        count_minus = 0\n",
        "\n",
        "        for y_val in Y_train_res:\n",
        "            \n",
        "            if y_val == 1:\n",
        "                count_plus +=1\n",
        "            else: \n",
        "                count_minus +=1\n",
        "        print(\"Positive examples:\",count_plus)\n",
        "        print(\"Negative examples:\",count_minus)\n",
        "\n",
        "# Talvez criar um método que aplique todos os passos pra evitar linhas de código -> Mas acho que será só isso o dataset, não deve haver problemas extras"
      ]
    },
    {
      "cell_type": "code",
      "execution_count": 12,
      "metadata": {
        "id": "_qgESzXVVxE5"
      },
      "outputs": [],
      "source": [
        "columns = ['Tem_Instr_Violao_Viola', 'Tem_Instr_Guitarra', 'Tem_Instr_Cavaco', \n",
        "           'Tem_Instr_Sintetizador_Teclado', 'Tem_Instr_Piano', 'Tem_Instr_Metais', \n",
        "           'Tem_Instr_Madeiras', 'Tem_Instr_Cordas', 'c' ,'K' ,'c#','C' ,'C#','d' ,'d#','D' ,'D#','e' ,'E' ,'f' ,'f#','F' ,'F#','g' ,'g#','G' ,'G#','a' ,'a#','A' ,'A#','B' ,'b'] "
      ]
    },
    {
      "cell_type": "code",
      "execution_count": 13,
      "metadata": {
        "id": "sd5RekVIVxE5"
      },
      "outputs": [],
      "source": [
        "# métodos já implementados\n",
        "def bool_to_int(dataframe: pd.DataFrame) -> pd.DataFrame:\n",
        "    '''\n",
        "    \n",
        "    Converte as colunas do tipo bool para o tipo int (0 e 1).\n",
        "    \n",
        "    '''\n",
        "    columns = ['Tem_Instr_Violao_Viola', 'Tem_Instr_Guitarra', 'Tem_Instr_Cavaco', \n",
        "               'Tem_Instr_Sintetizador_Teclado', 'Tem_Instr_Piano', 'Tem_Instr_Metais', \n",
        "               'Tem_Instr_Madeiras', 'Tem_Instr_Cordas', 'gostou']                      # Adicionar as colunas da bateria aqui depois\n",
        "    new_df = deepcopy(dataframe)\n",
        "    \n",
        "    for col in columns:\n",
        "        new_df[col] = new_df[col].astype(int)\n",
        "        \n",
        "    return new_df\n",
        "\n",
        "def bateria_to_bool(dataframe: pd.DataFrame) -> pd.DataFrame:\n",
        "    '''\n",
        "    \n",
        "    Transforma a coluna bateria para ser representada por binários\n",
        "    Essa função pode ser modificada para processar a coluna bateria de formas distintas.\n",
        "    \n",
        "    '''\n",
        "    new_df = deepcopy(dataframe)\n",
        "    new_df['bateria_eletronica'] = (new_df['bateria'] == 'Eletrônica').astype(int)\n",
        "    new_df['bateria_acustica']   = (new_df['bateria'] == 'Acústica').astype(int)\n",
        "    new_df['bateria_nenhuma']     = (new_df['bateria'] == 'Nenhuma').astype(int)\n",
        "    new_df = new_df.drop(columns = ['bateria'])\n",
        "    return new_df\n",
        "\n",
        "def get_user_data(USER: str, raw_data: pd.DataFrame) -> pd.DataFrame:\n",
        "    user_data = raw_data[raw_data['id_cliente'] == USER]\n",
        "    user_data = bool_to_int(user_data)\n",
        "    user_data = bateria_to_bool(user_data)\n",
        "    user_data['modo'] = user_data['modo'].fillna(\"K\")\n",
        "    \n",
        "    return user_data\n",
        "\n",
        "# métodos da analise exploratoria"
      ]
    },
    {
      "cell_type": "code",
      "execution_count": 14,
      "metadata": {
        "id": "y6FVKp3tVxE6"
      },
      "outputs": [],
      "source": [
        "def scale_to_bool(scale):\n",
        "    string = {\n",
        "        'K'  : 1,\n",
        "        'c'  : 0,\n",
        "        'c#' : 0, \n",
        "        'C'  : 1,\n",
        "        'C#' : 1,\n",
        "        'd'  : 0,\n",
        "        'd#' : 0,\n",
        "        'D'  : 1,\n",
        "        'D#' : 1,\n",
        "        'e'  : 0,\n",
        "        'E'  : 1,\n",
        "        'f'  : 0,\n",
        "        'f#' : 0,\n",
        "        'F'  : 1,\n",
        "        'F#' : 1,\n",
        "        'g'  : 0,\n",
        "        'g#' : 0,\n",
        "        'G'  : 1,\n",
        "        'G#' : 1,\n",
        "        'a'  : 0,\n",
        "        'a#' : 0,\n",
        "        'A'  : 1,\n",
        "        'A#' : 1,\n",
        "        'b'  : 0,\n",
        "        'B'  : 1\n",
        "    }[scale]\n",
        "    return string"
      ]
    },
    {
      "cell_type": "code",
      "execution_count": 15,
      "metadata": {
        "id": "6Ra4l5IWVxE6"
      },
      "outputs": [],
      "source": [
        "# One hot encoding the mode feature data:\n",
        "\n",
        "def scale_to_one_hot(raw_data: pd.DataFrame):\n",
        "    new_df = deepcopy(raw_data)\n",
        "    mode_df = pd.get_dummies(new_df[\"modo\"])\n",
        "    new_df = new_df.drop(columns = ['modo'])\n",
        "    # new_df.merge(mode_df,how='left', on='duracao')\n",
        "    #  Place the DataFrames side by side\n",
        "    new_df = pd.concat([new_df,mode_df], axis=1)\n",
        "    return new_df"
      ]
    },
    {
      "cell_type": "code",
      "execution_count": 16,
      "metadata": {
        "colab": {
          "base_uri": "https://localhost:8080/"
        },
        "id": "jBiPuaANVxE6",
        "outputId": "6965f79a-5335-4ca9-ff03-31d9d2c71dea"
      },
      "outputs": [
        {
          "name": "stdout",
          "output_type": "stream",
          "text": [
            "      Tem_Instr_Violao_Viola  Tem_Instr_Guitarra  Tem_Instr_Cavaco  \\\n",
            "0                          0                   1                 0   \n",
            "1                          1                   0                 1   \n",
            "2                          0                   1                 0   \n",
            "3                          0                   1                 0   \n",
            "4                          0                   0                 0   \n",
            "...                      ...                 ...               ...   \n",
            "4970                       1                   0                 0   \n",
            "4971                       1                   0                 1   \n",
            "4972                       0                   0                 0   \n",
            "4973                       1                   1                 0   \n",
            "4974                       0                   0                 0   \n",
            "\n",
            "      Tem_Instr_Sintetizador_Teclado  Tem_Instr_Piano  Tem_Instr_Metais  \\\n",
            "0                                  0                1                 0   \n",
            "1                                  0                0                 0   \n",
            "2                                  0                1                 1   \n",
            "3                                  0                1                 1   \n",
            "4                                  1                1                 0   \n",
            "...                              ...              ...               ...   \n",
            "4970                               0                0                 0   \n",
            "4971                               1                0                 0   \n",
            "4972                               1                0                 1   \n",
            "4973                               0                1                 0   \n",
            "4974                               1                0                 0   \n",
            "\n",
            "      Tem_Instr_Madeiras  Tem_Instr_Cordas         BPM   VolMedio  ...  b  c  \\\n",
            "0                      0                 0  128.652946   8.743969  ...  0  0   \n",
            "1                      0                 0  107.679121  12.128194  ...  0  0   \n",
            "2                      0                 0  117.885751  10.880246  ...  0  0   \n",
            "3                      1                 0  119.309408  12.489925  ...  0  0   \n",
            "4                      0                 0  153.488568   6.412484  ...  0  1   \n",
            "...                  ...               ...         ...        ...  ... .. ..   \n",
            "4970                   0                 0   75.647653   7.134472  ...  0  0   \n",
            "4971                   0                 0   70.424589  13.721616  ...  0  0   \n",
            "4972                   0                 0   82.829778   7.971384  ...  0  0   \n",
            "4973                   0                 0  115.032259   7.477331  ...  0  0   \n",
            "4974                   0                 0  104.474571   7.129283  ...  1  0   \n",
            "\n",
            "      c#  d  d#  e  f f#  g  g#  \n",
            "0      0  0   0  0  0  0  0   0  \n",
            "1      0  0   0  0  1  0  0   0  \n",
            "2      0  0   0  0  0  0  0   0  \n",
            "3      0  0   0  0  0  0  0   0  \n",
            "4      0  0   0  0  0  0  0   0  \n",
            "...   .. ..  .. .. .. .. ..  ..  \n",
            "4970   0  0   0  0  0  0  0   0  \n",
            "4971   1  0   0  0  0  0  0   0  \n",
            "4972   0  0   0  0  0  0  0   0  \n",
            "4973   0  0   0  0  0  0  0   0  \n",
            "4974   0  0   0  0  0  0  0   0  \n",
            "\n",
            "[4975 rows x 47 columns]\n"
          ]
        }
      ],
      "source": [
        "raw_data = pd.read_csv(DATA_PATH)\n",
        "raw_data['PctCantada'] = raw_data['PctCantada'] / 100\n",
        "raw_data['PctRap'] = raw_data['PctRap'] / 100\n",
        "raw_data['duracao'] = raw_data['duracao'] / (60*1000)\n",
        "raw_data['VolMedio'] = raw_data['VolMedio'].abs()\n",
        "raw_data['duracao']  = raw_data['duracao'].abs()\n",
        "raw_data['modo'] = raw_data['modo'].fillna('K')\n",
        "raw_data['escala_maior'] = raw_data['modo'].apply((lambda mode: scale_to_bool(mode)))\n",
        "# raw_data['modo'] = raw_data['modo'].apply((lambda mode: scale_to_bool(mode)))\n",
        "raw_data = bool_to_int(raw_data)\n",
        "raw_data = bateria_to_bool(raw_data)\n",
        "\n",
        "raw_data = scale_to_one_hot(raw_data) # Não gostei muito da solução, mas até faz sentido\n",
        "print(raw_data)"
      ]
    },
    {
      "cell_type": "code",
      "execution_count": 17,
      "metadata": {
        "id": "iTjiq31RVxE7"
      },
      "outputs": [],
      "source": [
        "USER = '#ID9181'\n",
        "# USER = '#ID4940'\n",
        "\n",
        "user_data = raw_data[raw_data['id_cliente'] == USER]"
      ]
    },
    {
      "cell_type": "code",
      "execution_count": 18,
      "metadata": {
        "colab": {
          "base_uri": "https://localhost:8080/"
        },
        "id": "fyXc1sIJVxE7",
        "outputId": "6c226101-d7cc-4fcd-ff06-adea7121b5e5"
      },
      "outputs": [
        {
          "name": "stdout",
          "output_type": "stream",
          "text": [
            "(2403,)\n",
            "(2403, 44)\n"
          ]
        }
      ],
      "source": [
        "input_data = user_data.drop(columns = [\"data_curtida\", \"id_cliente\"])[user_data['id_cliente'] == USER]\n",
        "# X = (.to_numpy()\n",
        "X = input_data.drop(columns = [\"gostou\"]).to_numpy()\n",
        "Y = input_data[\"gostou\"].to_numpy()\n",
        "Y = Y.ravel()\n",
        "print(Y.shape)\n",
        "print(X.shape)"
      ]
    },
    {
      "cell_type": "code",
      "execution_count": 19,
      "metadata": {
        "id": "9hZRWVtNVxE7"
      },
      "outputs": [],
      "source": [
        "from sklearn.model_selection import train_test_split\n",
        "from sklearn.neural_network import MLPClassifier\n",
        "X_train, X_test, y_train, y_test = train_test_split(X, Y, test_size=0.2,random_state=109) # 70% training and 30% testv"
      ]
    },
    {
      "cell_type": "code",
      "execution_count": 20,
      "metadata": {
        "colab": {
          "base_uri": "https://localhost:8080/"
        },
        "id": "GGFFhHhcVxE8",
        "outputId": "df8592b0-09f9-46f3-bc76-6ea61292848c"
      },
      "outputs": [
        {
          "name": "stdout",
          "output_type": "stream",
          "text": [
            "Positive examples: 1635\n",
            "Negative examples: 1635\n"
          ]
        }
      ],
      "source": [
        "# Teste do SMOTE\n",
        "# sm = SMOTE(random_state=42)\n",
        "# X_train_res, Y_train_res = sm.fit_resample(X_train, y_train)\n",
        "\n",
        "from imblearn.pipeline import Pipeline\n",
        "from imblearn.under_sampling import RandomUnderSampler\n",
        "\n",
        "a = np.arange(0,8)\n",
        "b = np.array([11])\n",
        "c = np.arange(15,44)\n",
        "categorical_index = np.concatenate([a,c])\n",
        "categorical_index = np.concatenate([categorical_index,b])\n",
        "categorical_index = list(categorical_index)\n",
        "\n",
        "# Teste SMOTE-NC\n",
        "smote_nc_over = SMOTENC(categorical_features=categorical_index, random_state=0)\n",
        "\n",
        "under = RandomUnderSampler(sampling_strategy='majority',random_state=0)\n",
        "\n",
        "steps = [('o', smote_nc_over), ('u', under)]\n",
        "pipeline = Pipeline(steps=steps)\n",
        "\n",
        "X_train_res, Y_train_res = pipeline.fit_resample(X_train, y_train)\n",
        "\n",
        "# X_train_res, Y_train_res = smote_nc_over.fit_resample(X_train, y_train)\n",
        "\n",
        "# Checar se o dataset ficou balanceado\n",
        "count_plus = 0\n",
        "count_minus = 0\n",
        "\n",
        "for y_val in Y_train_res:\n",
        "    \n",
        "    if y_val == 1:\n",
        "         count_plus +=1\n",
        "    else: \n",
        "         count_minus +=1\n",
        "print(\"Positive examples:\",count_plus)\n",
        "print(\"Negative examples:\",count_minus)\n",
        "\n"
      ]
    },
    {
      "cell_type": "markdown",
      "metadata": {
        "id": "Gt9zICeoVxE8"
      },
      "source": [
        "## Testando um classificador para ver se a estrutura do dataset ficou correta"
      ]
    },
    {
      "cell_type": "code",
      "execution_count": 21,
      "metadata": {
        "colab": {
          "base_uri": "https://localhost:8080/"
        },
        "id": "6I9VJV1HVxE8",
        "outputId": "8729468f-014b-46c1-d60a-b8eb6c23955d"
      },
      "outputs": [
        {
          "data": {
            "text/plain": [
              "MLPClassifier(hidden_layer_sizes=100)"
            ]
          },
          "execution_count": 21,
          "metadata": {},
          "output_type": "execute_result"
        }
      ],
      "source": [
        "clf = MLPClassifier(hidden_layer_sizes=(100), activation='relu', solver='adam') \n",
        "# clf.fit(X_train, y_train) # Sem SMOTE\n",
        "clf.fit(X_train_res, Y_train_res)  # Com SMOTE"
      ]
    },
    {
      "cell_type": "code",
      "execution_count": 22,
      "metadata": {
        "id": "9WRYXdgBVxE8"
      },
      "outputs": [],
      "source": [
        "y_pred = clf.predict(X_test)"
      ]
    },
    {
      "cell_type": "code",
      "execution_count": 23,
      "metadata": {
        "colab": {
          "base_uri": "https://localhost:8080/"
        },
        "id": "yRKfTq1JVxE9",
        "outputId": "71203b29-e4a9-45d2-eb48-e4c7fa0ea55b"
      },
      "outputs": [
        {
          "name": "stdout",
          "output_type": "stream",
          "text": [
            "Accuracy: 0.8066528066528067\n",
            "Precision: 0.3333333333333333\n",
            "Recall: 0.36764705882352944\n"
          ]
        }
      ],
      "source": [
        "from sklearn import metrics\n",
        "# Model Accuracy: how often is the classifier correct?\n",
        "print(\"Accuracy:\",metrics.accuracy_score(y_test, y_pred))\n",
        "\n",
        "print(\"Precision:\",metrics.precision_score(y_test, y_pred))\n",
        "\n",
        "# Model Recall: what percentage of positive tuples are labelled as such?\n",
        "print(\"Recall:\",metrics.recall_score(y_test, y_pred))"
      ]
    },
    {
      "cell_type": "code",
      "execution_count": 24,
      "metadata": {
        "colab": {
          "base_uri": "https://localhost:8080/"
        },
        "id": "hsN3kS_CbstO",
        "outputId": "c4fdbef2-cb3c-4a72-b202-f34063ecb116"
      },
      "outputs": [
        {
          "data": {
            "text/plain": [
              "0.3496503496503497"
            ]
          },
          "execution_count": 24,
          "metadata": {},
          "output_type": "execute_result"
        }
      ],
      "source": [
        "metrics.f1_score(y_test, y_pred)"
      ]
    },
    {
      "cell_type": "markdown",
      "metadata": {
        "id": "H6VSw2QeVxE9"
      },
      "source": [
        "## TODO: plotar curva ROC e acurácia para comparar os resultados "
      ]
    },
    {
      "cell_type": "code",
      "execution_count": 25,
      "metadata": {
        "colab": {
          "base_uri": "https://localhost:8080/"
        },
        "id": "gK8pfm2HVxE9",
        "outputId": "e2c6c0e5-81d9-417a-da83-3d15265622fe"
      },
      "outputs": [
        {
          "data": {
            "text/plain": [
              "0    1712\n",
              "1     860\n",
              "Name: gostou, dtype: int64"
            ]
          },
          "execution_count": 25,
          "metadata": {},
          "output_type": "execute_result"
        }
      ],
      "source": [
        "raw_data[raw_data['id_cliente'] == '#ID4940']['gostou'].value_counts()        # Verificar se o dataset está desbalanceado."
      ]
    },
    {
      "cell_type": "code",
      "execution_count": 26,
      "metadata": {
        "id": "BzLKWtgfdJXL"
      },
      "outputs": [],
      "source": [
        "def plot_auc(y_test, y_pred):\n",
        "    \n",
        "    \n",
        "    fpr, tpr, thresholds = metrics.roc_curve(y_test, y_pred, pos_label=1)\n",
        "    plt.plot(fpr, tpr, color='red', lw=2)\n",
        "    plt.plot([0, 1], [0, 1], color='navy', lw=1, linestyle='--')\n",
        "    plt.xlabel('False Positive Rate')\n",
        "    plt.ylabel('True Positive Rate')\n",
        "    plt.title('ROC Curve')    \n",
        "    plt.show()\n",
        "    \n",
        "    return"
      ]
    },
    {
      "cell_type": "code",
      "execution_count": 27,
      "metadata": {
        "colab": {
          "base_uri": "https://localhost:8080/",
          "height": 294
        },
        "id": "ER0es3E2d5Jo",
        "outputId": "06396a95-af72-4189-c836-7c444003ecff"
      },
      "outputs": [
        {
          "data": {
            "image/png": "[encoded data removed]",
            "text/plain": [
              "<Figure size 432x288 with 1 Axes>"
            ]
          },
          "metadata": {
            "needs_background": "light"
          },
          "output_type": "display_data"
        }
      ],
      "source": [
        "plot_auc(y_test, y_pred)"
      ]
    }
  ],
  "metadata": {
    "colab": {
      "collapsed_sections": [],
      "name": "MLP.ipynb",
      "provenance": []
    },
    "interpreter": {
      "hash": "d0f1ad4aa6fa1ca587eece29080af495b3eac88b2a6e3610cf30cdcc420705c5"
    },
    "kernelspec": {
      "display_name": "Python 3.7.10 64-bit ('ml': conda)",
      "name": "python3"
    },
    "language_info": {
      "codemirror_mode": {
        "name": "ipython",
        "version": 3
      },
      "file_extension": ".py",
      "mimetype": "text/x-python",
      "name": "python",
      "nbconvert_exporter": "python",
      "pygments_lexer": "ipython3",
      "version": "3.7.10"
    },
    "orig_nbformat": 4
  },
  "nbformat": 4,
  "nbformat_minor": 0
}
