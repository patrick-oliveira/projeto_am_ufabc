{
 "cells": [
  {
   "cell_type": "code",
   "execution_count": 1,
   "metadata": {},
   "outputs": [],
   "source": [
    "import numpy as np\n",
    "import pandas as pd\n",
    "from copy import deepcopy           # Necessário para copiar os dados dentro de funções e evitar alterações inplace dos dados\n",
    "                                    # Isso para que as funções recebam um dado e gerem um dado novo, mantendo o original inalterado.\n",
    "import matplotlib.pyplot as plt\n",
    "import seaborn as sns\n",
    "\n",
    "from sklearn.preprocessing import OneHotEncoder\n",
    "from sklearn.model_selection import train_test_split\n",
    "from sklearn import svm\n",
    "\n",
    "from imblearn.over_sampling import SMOTE, SMOTENC\n",
    "from imblearn.pipeline import Pipeline\n",
    "from imblearn.under_sampling import RandomUnderSampler"
   ]
  },
  {
   "cell_type": "code",
   "execution_count": 2,
   "metadata": {},
   "outputs": [],
   "source": [
    "from preprocessor import Preprocessor"
   ]
  },
  {
   "cell_type": "code",
   "execution_count": 4,
   "metadata": {},
   "outputs": [],
   "source": [
    "from sklearn.neural_network import MLPClassifier, MLPRegressor\n",
    "from sklearn.tree import DecisionTreeClassifier, DecisionTreeRegressor\n",
    "from sklearn.svm import SVC, SVR\n",
    "from sklearn.linear_model import LogisticRegression, Perceptron, LinearRegression"
   ]
  },
  {
   "cell_type": "code",
   "execution_count": 6,
   "metadata": {},
   "outputs": [
    {
     "name": "stdout",
     "output_type": "stream",
     "text": [
      "Usuarios: ['#ID4940', '#ID9181']\n",
      "Labels shape: (2403,)\n",
      "Features shape(2403, 43)\n",
      "with SMOTENC oversampling\n",
      "Accuracy: 0.14137214137214138\n",
      "Precision: 0.14137214137214138\n",
      "Recall: 1.0\n"
     ]
    }
   ],
   "source": [
    "# Importação dos dados\n",
    "DATA_PATH = 'dados/dados_treino.csv'\n",
    "prep = Preprocessor(DATA_PATH)\n",
    "\n",
    "# Processamento e adequação do dataset\n",
    "prep.preprocess_dataset()\n",
    "\n",
    "# Escolha do usuário para treinamento / análise\n",
    "USER = '#ID9181'\n",
    "user_data = prep.get_user_data(USER)\n",
    "\n",
    "# Separação do dataset de treino e teste\n",
    "X_train, X_test, y_train, y_test = prep.train_test_split(user_data, oversampling=\"SMOTENC\")\n",
    "\n",
    "#  <<<<<< Aplicar métodos de aprendizado de máquina >>>>>>>\n",
    "\n",
    "# clf = svm.SVC(kernel='linear') # Linear Kernel\n",
    "clf = Perceptron()\n",
    "# clf.fit(X_train, y_train) # Sem SMOTE\n",
    "clf.fit(X_train, y_train)  # Com SMOTE\n",
    "\n",
    "y_pred = clf.predict(X_test)\n",
    "\n",
    "from sklearn import metrics\n",
    "# Model Accuracy: how often is the classifier correct?\n",
    "print(\"Accuracy:\",metrics.accuracy_score(y_test, y_pred))\n",
    "\n",
    "print(\"Precision:\",metrics.precision_score(y_test, y_pred))\n",
    "\n",
    "# Model Recall: what percentage of positive tuples are labelled as such?\n",
    "print(\"Recall:\",metrics.recall_score(y_test, y_pred))\n"
   ]
  },
  {
   "cell_type": "code",
   "execution_count": null,
   "metadata": {},
   "outputs": [],
   "source": []
  }
 ],
 "metadata": {
  "interpreter": {
   "hash": "d0f1ad4aa6fa1ca587eece29080af495b3eac88b2a6e3610cf30cdcc420705c5"
  },
  "kernelspec": {
   "display_name": "Python 3",
   "language": "python",
   "name": "python3"
  },
  "language_info": {
   "codemirror_mode": {
    "name": "ipython",
    "version": 3
   },
   "file_extension": ".py",
   "mimetype": "text/x-python",
   "name": "python",
   "nbconvert_exporter": "python",
   "pygments_lexer": "ipython3",
   "version": "3.8.8"
  }
 },
 "nbformat": 4,
 "nbformat_minor": 4
}
